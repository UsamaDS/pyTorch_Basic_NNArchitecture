{
  "nbformat": 4,
  "nbformat_minor": 0,
  "metadata": {
    "colab": {
      "provenance": [],
      "gpuType": "T4"
    },
    "kernelspec": {
      "name": "python3",
      "display_name": "Python 3"
    },
    "language_info": {
      "name": "python"
    },
    "accelerator": "GPU"
  },
  "cells": [
    {
      "cell_type": "markdown",
      "source": [
        "# Download Data from Kaggle API"
      ],
      "metadata": {
        "id": "I-kOY4iEvfXm"
      }
    },
    {
      "cell_type": "code",
      "source": [
        "import os\n",
        "from google.colab import files\n",
        "\n",
        "# Upload kaggle.json file\n",
        "print(\"Please upload your kaggle.json file:\")\n",
        "files.upload()\n",
        "\n",
        "# Move kaggle.json to the correct directory\n",
        "!mkdir -p ~/.kaggle\n",
        "!mv kaggle.json ~/.kaggle/\n",
        "!chmod 600 ~/.kaggle/kaggle.json"
      ],
      "metadata": {
        "colab": {
          "base_uri": "https://localhost:8080/",
          "height": 90
        },
        "id": "QDbVMBxDvmPx",
        "outputId": "6da0bf3b-c823-4700-fd86-7f27695e40b1"
      },
      "execution_count": null,
      "outputs": [
        {
          "output_type": "stream",
          "name": "stdout",
          "text": [
            "Please upload your kaggle.json file:\n"
          ]
        },
        {
          "output_type": "display_data",
          "data": {
            "text/plain": [
              "<IPython.core.display.HTML object>"
            ],
            "text/html": [
              "\n",
              "     <input type=\"file\" id=\"files-dbf9dba4-9786-48fa-b0ca-ce24c5aa8c5f\" name=\"files[]\" multiple disabled\n",
              "        style=\"border:none\" />\n",
              "     <output id=\"result-dbf9dba4-9786-48fa-b0ca-ce24c5aa8c5f\">\n",
              "      Upload widget is only available when the cell has been executed in the\n",
              "      current browser session. Please rerun this cell to enable.\n",
              "      </output>\n",
              "      <script>// Copyright 2017 Google LLC\n",
              "//\n",
              "// Licensed under the Apache License, Version 2.0 (the \"License\");\n",
              "// you may not use this file except in compliance with the License.\n",
              "// You may obtain a copy of the License at\n",
              "//\n",
              "//      http://www.apache.org/licenses/LICENSE-2.0\n",
              "//\n",
              "// Unless required by applicable law or agreed to in writing, software\n",
              "// distributed under the License is distributed on an \"AS IS\" BASIS,\n",
              "// WITHOUT WARRANTIES OR CONDITIONS OF ANY KIND, either express or implied.\n",
              "// See the License for the specific language governing permissions and\n",
              "// limitations under the License.\n",
              "\n",
              "/**\n",
              " * @fileoverview Helpers for google.colab Python module.\n",
              " */\n",
              "(function(scope) {\n",
              "function span(text, styleAttributes = {}) {\n",
              "  const element = document.createElement('span');\n",
              "  element.textContent = text;\n",
              "  for (const key of Object.keys(styleAttributes)) {\n",
              "    element.style[key] = styleAttributes[key];\n",
              "  }\n",
              "  return element;\n",
              "}\n",
              "\n",
              "// Max number of bytes which will be uploaded at a time.\n",
              "const MAX_PAYLOAD_SIZE = 100 * 1024;\n",
              "\n",
              "function _uploadFiles(inputId, outputId) {\n",
              "  const steps = uploadFilesStep(inputId, outputId);\n",
              "  const outputElement = document.getElementById(outputId);\n",
              "  // Cache steps on the outputElement to make it available for the next call\n",
              "  // to uploadFilesContinue from Python.\n",
              "  outputElement.steps = steps;\n",
              "\n",
              "  return _uploadFilesContinue(outputId);\n",
              "}\n",
              "\n",
              "// This is roughly an async generator (not supported in the browser yet),\n",
              "// where there are multiple asynchronous steps and the Python side is going\n",
              "// to poll for completion of each step.\n",
              "// This uses a Promise to block the python side on completion of each step,\n",
              "// then passes the result of the previous step as the input to the next step.\n",
              "function _uploadFilesContinue(outputId) {\n",
              "  const outputElement = document.getElementById(outputId);\n",
              "  const steps = outputElement.steps;\n",
              "\n",
              "  const next = steps.next(outputElement.lastPromiseValue);\n",
              "  return Promise.resolve(next.value.promise).then((value) => {\n",
              "    // Cache the last promise value to make it available to the next\n",
              "    // step of the generator.\n",
              "    outputElement.lastPromiseValue = value;\n",
              "    return next.value.response;\n",
              "  });\n",
              "}\n",
              "\n",
              "/**\n",
              " * Generator function which is called between each async step of the upload\n",
              " * process.\n",
              " * @param {string} inputId Element ID of the input file picker element.\n",
              " * @param {string} outputId Element ID of the output display.\n",
              " * @return {!Iterable<!Object>} Iterable of next steps.\n",
              " */\n",
              "function* uploadFilesStep(inputId, outputId) {\n",
              "  const inputElement = document.getElementById(inputId);\n",
              "  inputElement.disabled = false;\n",
              "\n",
              "  const outputElement = document.getElementById(outputId);\n",
              "  outputElement.innerHTML = '';\n",
              "\n",
              "  const pickedPromise = new Promise((resolve) => {\n",
              "    inputElement.addEventListener('change', (e) => {\n",
              "      resolve(e.target.files);\n",
              "    });\n",
              "  });\n",
              "\n",
              "  const cancel = document.createElement('button');\n",
              "  inputElement.parentElement.appendChild(cancel);\n",
              "  cancel.textContent = 'Cancel upload';\n",
              "  const cancelPromise = new Promise((resolve) => {\n",
              "    cancel.onclick = () => {\n",
              "      resolve(null);\n",
              "    };\n",
              "  });\n",
              "\n",
              "  // Wait for the user to pick the files.\n",
              "  const files = yield {\n",
              "    promise: Promise.race([pickedPromise, cancelPromise]),\n",
              "    response: {\n",
              "      action: 'starting',\n",
              "    }\n",
              "  };\n",
              "\n",
              "  cancel.remove();\n",
              "\n",
              "  // Disable the input element since further picks are not allowed.\n",
              "  inputElement.disabled = true;\n",
              "\n",
              "  if (!files) {\n",
              "    return {\n",
              "      response: {\n",
              "        action: 'complete',\n",
              "      }\n",
              "    };\n",
              "  }\n",
              "\n",
              "  for (const file of files) {\n",
              "    const li = document.createElement('li');\n",
              "    li.append(span(file.name, {fontWeight: 'bold'}));\n",
              "    li.append(span(\n",
              "        `(${file.type || 'n/a'}) - ${file.size} bytes, ` +\n",
              "        `last modified: ${\n",
              "            file.lastModifiedDate ? file.lastModifiedDate.toLocaleDateString() :\n",
              "                                    'n/a'} - `));\n",
              "    const percent = span('0% done');\n",
              "    li.appendChild(percent);\n",
              "\n",
              "    outputElement.appendChild(li);\n",
              "\n",
              "    const fileDataPromise = new Promise((resolve) => {\n",
              "      const reader = new FileReader();\n",
              "      reader.onload = (e) => {\n",
              "        resolve(e.target.result);\n",
              "      };\n",
              "      reader.readAsArrayBuffer(file);\n",
              "    });\n",
              "    // Wait for the data to be ready.\n",
              "    let fileData = yield {\n",
              "      promise: fileDataPromise,\n",
              "      response: {\n",
              "        action: 'continue',\n",
              "      }\n",
              "    };\n",
              "\n",
              "    // Use a chunked sending to avoid message size limits. See b/62115660.\n",
              "    let position = 0;\n",
              "    do {\n",
              "      const length = Math.min(fileData.byteLength - position, MAX_PAYLOAD_SIZE);\n",
              "      const chunk = new Uint8Array(fileData, position, length);\n",
              "      position += length;\n",
              "\n",
              "      const base64 = btoa(String.fromCharCode.apply(null, chunk));\n",
              "      yield {\n",
              "        response: {\n",
              "          action: 'append',\n",
              "          file: file.name,\n",
              "          data: base64,\n",
              "        },\n",
              "      };\n",
              "\n",
              "      let percentDone = fileData.byteLength === 0 ?\n",
              "          100 :\n",
              "          Math.round((position / fileData.byteLength) * 100);\n",
              "      percent.textContent = `${percentDone}% done`;\n",
              "\n",
              "    } while (position < fileData.byteLength);\n",
              "  }\n",
              "\n",
              "  // All done.\n",
              "  yield {\n",
              "    response: {\n",
              "      action: 'complete',\n",
              "    }\n",
              "  };\n",
              "}\n",
              "\n",
              "scope.google = scope.google || {};\n",
              "scope.google.colab = scope.google.colab || {};\n",
              "scope.google.colab._files = {\n",
              "  _uploadFiles,\n",
              "  _uploadFilesContinue,\n",
              "};\n",
              "})(self);\n",
              "</script> "
            ]
          },
          "metadata": {}
        },
        {
          "output_type": "stream",
          "name": "stdout",
          "text": [
            "Saving kaggle.json to kaggle.json\n"
          ]
        }
      ]
    },
    {
      "cell_type": "code",
      "source": [
        "!kaggle datasets download zalando-research/fashionmnist"
      ],
      "metadata": {
        "colab": {
          "base_uri": "https://localhost:8080/"
        },
        "id": "qofQpwbivrfN",
        "outputId": "6c712bad-e9e9-48c4-f917-5042fa764e84"
      },
      "execution_count": null,
      "outputs": [
        {
          "output_type": "stream",
          "name": "stdout",
          "text": [
            "Dataset URL: https://www.kaggle.com/datasets/zalando-research/fashionmnist\n",
            "License(s): other\n",
            "Downloading fashionmnist.zip to /content\n",
            "  0% 0.00/68.8M [00:00<?, ?B/s]\n",
            "100% 68.8M/68.8M [00:00<00:00, 1.17GB/s]\n"
          ]
        }
      ]
    },
    {
      "cell_type": "code",
      "source": [
        "# Unzip the downloaded data\n",
        "!unzip fashionmnist.zip"
      ],
      "metadata": {
        "colab": {
          "base_uri": "https://localhost:8080/"
        },
        "id": "Qr0baYsWv0BW",
        "outputId": "5db6742c-67c1-45a2-9085-da0a15b50876"
      },
      "execution_count": null,
      "outputs": [
        {
          "output_type": "stream",
          "name": "stdout",
          "text": [
            "Archive:  fashionmnist.zip\n",
            "  inflating: fashion-mnist_test.csv  \n",
            "  inflating: fashion-mnist_train.csv  \n",
            "  inflating: t10k-images-idx3-ubyte  \n",
            "  inflating: t10k-labels-idx1-ubyte  \n",
            "  inflating: train-images-idx3-ubyte  \n",
            "  inflating: train-labels-idx1-ubyte  \n"
          ]
        }
      ]
    },
    {
      "cell_type": "markdown",
      "source": [
        "## Import required Packages"
      ],
      "metadata": {
        "id": "WxR4AyR-yD7b"
      }
    },
    {
      "cell_type": "code",
      "execution_count": null,
      "metadata": {
        "id": "BlvpM1Fkstxz"
      },
      "outputs": [],
      "source": [
        "import pandas as pd\n",
        "from sklearn.model_selection import train_test_split\n",
        "import torch\n",
        "from torch.utils.data import Dataset, dataloader\n",
        "import torch.nn as nn\n",
        "import torch.optim as optim\n",
        "import matplotlib.pyplot as plt"
      ]
    },
    {
      "cell_type": "code",
      "source": [
        "# Set random seeds for reproducability\n",
        "torch.manual_seed(42)"
      ],
      "metadata": {
        "colab": {
          "base_uri": "https://localhost:8080/"
        },
        "id": "QUu2Yy--szEG",
        "outputId": "1e268bb1-5994-4d54-831a-497106455461"
      },
      "execution_count": null,
      "outputs": [
        {
          "output_type": "execute_result",
          "data": {
            "text/plain": [
              "<torch._C.Generator at 0x7c63a8fda530>"
            ]
          },
          "metadata": {},
          "execution_count": 5
        }
      ]
    },
    {
      "cell_type": "code",
      "source": [
        "# Check for GPU\n",
        "device = torch.device(\"cuda\" if torch.cuda.is_available() else 'cpu')\n",
        "print(f\"Using device: {device}\")"
      ],
      "metadata": {
        "colab": {
          "base_uri": "https://localhost:8080/"
        },
        "id": "6LFauR3ktOMe",
        "outputId": "856cf916-c2a4-4011-ff15-12575d1c9331"
      },
      "execution_count": null,
      "outputs": [
        {
          "output_type": "stream",
          "name": "stdout",
          "text": [
            "Using device: cuda\n"
          ]
        }
      ]
    },
    {
      "cell_type": "markdown",
      "source": [
        "## Load Data"
      ],
      "metadata": {
        "id": "oDQZiX5AyIuL"
      }
    },
    {
      "cell_type": "code",
      "source": [
        "df = pd.read_csv('/content/fashion-mnist_train.csv')\n",
        "df.head()"
      ],
      "metadata": {
        "id": "QLmfHvZAtapx",
        "colab": {
          "base_uri": "https://localhost:8080/",
          "height": 256
        },
        "outputId": "bfe352ab-ebe7-49e4-9a1d-1cff1a0de61c"
      },
      "execution_count": null,
      "outputs": [
        {
          "output_type": "execute_result",
          "data": {
            "text/plain": [
              "   label  pixel1  pixel2  pixel3  pixel4  pixel5  pixel6  pixel7  pixel8  \\\n",
              "0      2       0       0       0       0       0       0       0       0   \n",
              "1      9       0       0       0       0       0       0       0       0   \n",
              "2      6       0       0       0       0       0       0       0       5   \n",
              "3      0       0       0       0       1       2       0       0       0   \n",
              "4      3       0       0       0       0       0       0       0       0   \n",
              "\n",
              "   pixel9  ...  pixel775  pixel776  pixel777  pixel778  pixel779  pixel780  \\\n",
              "0       0  ...         0         0         0         0         0         0   \n",
              "1       0  ...         0         0         0         0         0         0   \n",
              "2       0  ...         0         0         0        30        43         0   \n",
              "3       0  ...         3         0         0         0         0         1   \n",
              "4       0  ...         0         0         0         0         0         0   \n",
              "\n",
              "   pixel781  pixel782  pixel783  pixel784  \n",
              "0         0         0         0         0  \n",
              "1         0         0         0         0  \n",
              "2         0         0         0         0  \n",
              "3         0         0         0         0  \n",
              "4         0         0         0         0  \n",
              "\n",
              "[5 rows x 785 columns]"
            ],
            "text/html": [
              "\n",
              "  <div id=\"df-8cc5f4c4-74fd-4a3e-8853-d19d0feb5c26\" class=\"colab-df-container\">\n",
              "    <div>\n",
              "<style scoped>\n",
              "    .dataframe tbody tr th:only-of-type {\n",
              "        vertical-align: middle;\n",
              "    }\n",
              "\n",
              "    .dataframe tbody tr th {\n",
              "        vertical-align: top;\n",
              "    }\n",
              "\n",
              "    .dataframe thead th {\n",
              "        text-align: right;\n",
              "    }\n",
              "</style>\n",
              "<table border=\"1\" class=\"dataframe\">\n",
              "  <thead>\n",
              "    <tr style=\"text-align: right;\">\n",
              "      <th></th>\n",
              "      <th>label</th>\n",
              "      <th>pixel1</th>\n",
              "      <th>pixel2</th>\n",
              "      <th>pixel3</th>\n",
              "      <th>pixel4</th>\n",
              "      <th>pixel5</th>\n",
              "      <th>pixel6</th>\n",
              "      <th>pixel7</th>\n",
              "      <th>pixel8</th>\n",
              "      <th>pixel9</th>\n",
              "      <th>...</th>\n",
              "      <th>pixel775</th>\n",
              "      <th>pixel776</th>\n",
              "      <th>pixel777</th>\n",
              "      <th>pixel778</th>\n",
              "      <th>pixel779</th>\n",
              "      <th>pixel780</th>\n",
              "      <th>pixel781</th>\n",
              "      <th>pixel782</th>\n",
              "      <th>pixel783</th>\n",
              "      <th>pixel784</th>\n",
              "    </tr>\n",
              "  </thead>\n",
              "  <tbody>\n",
              "    <tr>\n",
              "      <th>0</th>\n",
              "      <td>2</td>\n",
              "      <td>0</td>\n",
              "      <td>0</td>\n",
              "      <td>0</td>\n",
              "      <td>0</td>\n",
              "      <td>0</td>\n",
              "      <td>0</td>\n",
              "      <td>0</td>\n",
              "      <td>0</td>\n",
              "      <td>0</td>\n",
              "      <td>...</td>\n",
              "      <td>0</td>\n",
              "      <td>0</td>\n",
              "      <td>0</td>\n",
              "      <td>0</td>\n",
              "      <td>0</td>\n",
              "      <td>0</td>\n",
              "      <td>0</td>\n",
              "      <td>0</td>\n",
              "      <td>0</td>\n",
              "      <td>0</td>\n",
              "    </tr>\n",
              "    <tr>\n",
              "      <th>1</th>\n",
              "      <td>9</td>\n",
              "      <td>0</td>\n",
              "      <td>0</td>\n",
              "      <td>0</td>\n",
              "      <td>0</td>\n",
              "      <td>0</td>\n",
              "      <td>0</td>\n",
              "      <td>0</td>\n",
              "      <td>0</td>\n",
              "      <td>0</td>\n",
              "      <td>...</td>\n",
              "      <td>0</td>\n",
              "      <td>0</td>\n",
              "      <td>0</td>\n",
              "      <td>0</td>\n",
              "      <td>0</td>\n",
              "      <td>0</td>\n",
              "      <td>0</td>\n",
              "      <td>0</td>\n",
              "      <td>0</td>\n",
              "      <td>0</td>\n",
              "    </tr>\n",
              "    <tr>\n",
              "      <th>2</th>\n",
              "      <td>6</td>\n",
              "      <td>0</td>\n",
              "      <td>0</td>\n",
              "      <td>0</td>\n",
              "      <td>0</td>\n",
              "      <td>0</td>\n",
              "      <td>0</td>\n",
              "      <td>0</td>\n",
              "      <td>5</td>\n",
              "      <td>0</td>\n",
              "      <td>...</td>\n",
              "      <td>0</td>\n",
              "      <td>0</td>\n",
              "      <td>0</td>\n",
              "      <td>30</td>\n",
              "      <td>43</td>\n",
              "      <td>0</td>\n",
              "      <td>0</td>\n",
              "      <td>0</td>\n",
              "      <td>0</td>\n",
              "      <td>0</td>\n",
              "    </tr>\n",
              "    <tr>\n",
              "      <th>3</th>\n",
              "      <td>0</td>\n",
              "      <td>0</td>\n",
              "      <td>0</td>\n",
              "      <td>0</td>\n",
              "      <td>1</td>\n",
              "      <td>2</td>\n",
              "      <td>0</td>\n",
              "      <td>0</td>\n",
              "      <td>0</td>\n",
              "      <td>0</td>\n",
              "      <td>...</td>\n",
              "      <td>3</td>\n",
              "      <td>0</td>\n",
              "      <td>0</td>\n",
              "      <td>0</td>\n",
              "      <td>0</td>\n",
              "      <td>1</td>\n",
              "      <td>0</td>\n",
              "      <td>0</td>\n",
              "      <td>0</td>\n",
              "      <td>0</td>\n",
              "    </tr>\n",
              "    <tr>\n",
              "      <th>4</th>\n",
              "      <td>3</td>\n",
              "      <td>0</td>\n",
              "      <td>0</td>\n",
              "      <td>0</td>\n",
              "      <td>0</td>\n",
              "      <td>0</td>\n",
              "      <td>0</td>\n",
              "      <td>0</td>\n",
              "      <td>0</td>\n",
              "      <td>0</td>\n",
              "      <td>...</td>\n",
              "      <td>0</td>\n",
              "      <td>0</td>\n",
              "      <td>0</td>\n",
              "      <td>0</td>\n",
              "      <td>0</td>\n",
              "      <td>0</td>\n",
              "      <td>0</td>\n",
              "      <td>0</td>\n",
              "      <td>0</td>\n",
              "      <td>0</td>\n",
              "    </tr>\n",
              "  </tbody>\n",
              "</table>\n",
              "<p>5 rows × 785 columns</p>\n",
              "</div>\n",
              "    <div class=\"colab-df-buttons\">\n",
              "\n",
              "  <div class=\"colab-df-container\">\n",
              "    <button class=\"colab-df-convert\" onclick=\"convertToInteractive('df-8cc5f4c4-74fd-4a3e-8853-d19d0feb5c26')\"\n",
              "            title=\"Convert this dataframe to an interactive table.\"\n",
              "            style=\"display:none;\">\n",
              "\n",
              "  <svg xmlns=\"http://www.w3.org/2000/svg\" height=\"24px\" viewBox=\"0 -960 960 960\">\n",
              "    <path d=\"M120-120v-720h720v720H120Zm60-500h600v-160H180v160Zm220 220h160v-160H400v160Zm0 220h160v-160H400v160ZM180-400h160v-160H180v160Zm440 0h160v-160H620v160ZM180-180h160v-160H180v160Zm440 0h160v-160H620v160Z\"/>\n",
              "  </svg>\n",
              "    </button>\n",
              "\n",
              "  <style>\n",
              "    .colab-df-container {\n",
              "      display:flex;\n",
              "      gap: 12px;\n",
              "    }\n",
              "\n",
              "    .colab-df-convert {\n",
              "      background-color: #E8F0FE;\n",
              "      border: none;\n",
              "      border-radius: 50%;\n",
              "      cursor: pointer;\n",
              "      display: none;\n",
              "      fill: #1967D2;\n",
              "      height: 32px;\n",
              "      padding: 0 0 0 0;\n",
              "      width: 32px;\n",
              "    }\n",
              "\n",
              "    .colab-df-convert:hover {\n",
              "      background-color: #E2EBFA;\n",
              "      box-shadow: 0px 1px 2px rgba(60, 64, 67, 0.3), 0px 1px 3px 1px rgba(60, 64, 67, 0.15);\n",
              "      fill: #174EA6;\n",
              "    }\n",
              "\n",
              "    .colab-df-buttons div {\n",
              "      margin-bottom: 4px;\n",
              "    }\n",
              "\n",
              "    [theme=dark] .colab-df-convert {\n",
              "      background-color: #3B4455;\n",
              "      fill: #D2E3FC;\n",
              "    }\n",
              "\n",
              "    [theme=dark] .colab-df-convert:hover {\n",
              "      background-color: #434B5C;\n",
              "      box-shadow: 0px 1px 3px 1px rgba(0, 0, 0, 0.15);\n",
              "      filter: drop-shadow(0px 1px 2px rgba(0, 0, 0, 0.3));\n",
              "      fill: #FFFFFF;\n",
              "    }\n",
              "  </style>\n",
              "\n",
              "    <script>\n",
              "      const buttonEl =\n",
              "        document.querySelector('#df-8cc5f4c4-74fd-4a3e-8853-d19d0feb5c26 button.colab-df-convert');\n",
              "      buttonEl.style.display =\n",
              "        google.colab.kernel.accessAllowed ? 'block' : 'none';\n",
              "\n",
              "      async function convertToInteractive(key) {\n",
              "        const element = document.querySelector('#df-8cc5f4c4-74fd-4a3e-8853-d19d0feb5c26');\n",
              "        const dataTable =\n",
              "          await google.colab.kernel.invokeFunction('convertToInteractive',\n",
              "                                                    [key], {});\n",
              "        if (!dataTable) return;\n",
              "\n",
              "        const docLinkHtml = 'Like what you see? Visit the ' +\n",
              "          '<a target=\"_blank\" href=https://colab.research.google.com/notebooks/data_table.ipynb>data table notebook</a>'\n",
              "          + ' to learn more about interactive tables.';\n",
              "        element.innerHTML = '';\n",
              "        dataTable['output_type'] = 'display_data';\n",
              "        await google.colab.output.renderOutput(dataTable, element);\n",
              "        const docLink = document.createElement('div');\n",
              "        docLink.innerHTML = docLinkHtml;\n",
              "        element.appendChild(docLink);\n",
              "      }\n",
              "    </script>\n",
              "  </div>\n",
              "\n",
              "\n",
              "    <div id=\"df-b1b5c18b-b5fc-4430-887c-0d3dd7c42092\">\n",
              "      <button class=\"colab-df-quickchart\" onclick=\"quickchart('df-b1b5c18b-b5fc-4430-887c-0d3dd7c42092')\"\n",
              "                title=\"Suggest charts\"\n",
              "                style=\"display:none;\">\n",
              "\n",
              "<svg xmlns=\"http://www.w3.org/2000/svg\" height=\"24px\"viewBox=\"0 0 24 24\"\n",
              "     width=\"24px\">\n",
              "    <g>\n",
              "        <path d=\"M19 3H5c-1.1 0-2 .9-2 2v14c0 1.1.9 2 2 2h14c1.1 0 2-.9 2-2V5c0-1.1-.9-2-2-2zM9 17H7v-7h2v7zm4 0h-2V7h2v10zm4 0h-2v-4h2v4z\"/>\n",
              "    </g>\n",
              "</svg>\n",
              "      </button>\n",
              "\n",
              "<style>\n",
              "  .colab-df-quickchart {\n",
              "      --bg-color: #E8F0FE;\n",
              "      --fill-color: #1967D2;\n",
              "      --hover-bg-color: #E2EBFA;\n",
              "      --hover-fill-color: #174EA6;\n",
              "      --disabled-fill-color: #AAA;\n",
              "      --disabled-bg-color: #DDD;\n",
              "  }\n",
              "\n",
              "  [theme=dark] .colab-df-quickchart {\n",
              "      --bg-color: #3B4455;\n",
              "      --fill-color: #D2E3FC;\n",
              "      --hover-bg-color: #434B5C;\n",
              "      --hover-fill-color: #FFFFFF;\n",
              "      --disabled-bg-color: #3B4455;\n",
              "      --disabled-fill-color: #666;\n",
              "  }\n",
              "\n",
              "  .colab-df-quickchart {\n",
              "    background-color: var(--bg-color);\n",
              "    border: none;\n",
              "    border-radius: 50%;\n",
              "    cursor: pointer;\n",
              "    display: none;\n",
              "    fill: var(--fill-color);\n",
              "    height: 32px;\n",
              "    padding: 0;\n",
              "    width: 32px;\n",
              "  }\n",
              "\n",
              "  .colab-df-quickchart:hover {\n",
              "    background-color: var(--hover-bg-color);\n",
              "    box-shadow: 0 1px 2px rgba(60, 64, 67, 0.3), 0 1px 3px 1px rgba(60, 64, 67, 0.15);\n",
              "    fill: var(--button-hover-fill-color);\n",
              "  }\n",
              "\n",
              "  .colab-df-quickchart-complete:disabled,\n",
              "  .colab-df-quickchart-complete:disabled:hover {\n",
              "    background-color: var(--disabled-bg-color);\n",
              "    fill: var(--disabled-fill-color);\n",
              "    box-shadow: none;\n",
              "  }\n",
              "\n",
              "  .colab-df-spinner {\n",
              "    border: 2px solid var(--fill-color);\n",
              "    border-color: transparent;\n",
              "    border-bottom-color: var(--fill-color);\n",
              "    animation:\n",
              "      spin 1s steps(1) infinite;\n",
              "  }\n",
              "\n",
              "  @keyframes spin {\n",
              "    0% {\n",
              "      border-color: transparent;\n",
              "      border-bottom-color: var(--fill-color);\n",
              "      border-left-color: var(--fill-color);\n",
              "    }\n",
              "    20% {\n",
              "      border-color: transparent;\n",
              "      border-left-color: var(--fill-color);\n",
              "      border-top-color: var(--fill-color);\n",
              "    }\n",
              "    30% {\n",
              "      border-color: transparent;\n",
              "      border-left-color: var(--fill-color);\n",
              "      border-top-color: var(--fill-color);\n",
              "      border-right-color: var(--fill-color);\n",
              "    }\n",
              "    40% {\n",
              "      border-color: transparent;\n",
              "      border-right-color: var(--fill-color);\n",
              "      border-top-color: var(--fill-color);\n",
              "    }\n",
              "    60% {\n",
              "      border-color: transparent;\n",
              "      border-right-color: var(--fill-color);\n",
              "    }\n",
              "    80% {\n",
              "      border-color: transparent;\n",
              "      border-right-color: var(--fill-color);\n",
              "      border-bottom-color: var(--fill-color);\n",
              "    }\n",
              "    90% {\n",
              "      border-color: transparent;\n",
              "      border-bottom-color: var(--fill-color);\n",
              "    }\n",
              "  }\n",
              "</style>\n",
              "\n",
              "      <script>\n",
              "        async function quickchart(key) {\n",
              "          const quickchartButtonEl =\n",
              "            document.querySelector('#' + key + ' button');\n",
              "          quickchartButtonEl.disabled = true;  // To prevent multiple clicks.\n",
              "          quickchartButtonEl.classList.add('colab-df-spinner');\n",
              "          try {\n",
              "            const charts = await google.colab.kernel.invokeFunction(\n",
              "                'suggestCharts', [key], {});\n",
              "          } catch (error) {\n",
              "            console.error('Error during call to suggestCharts:', error);\n",
              "          }\n",
              "          quickchartButtonEl.classList.remove('colab-df-spinner');\n",
              "          quickchartButtonEl.classList.add('colab-df-quickchart-complete');\n",
              "        }\n",
              "        (() => {\n",
              "          let quickchartButtonEl =\n",
              "            document.querySelector('#df-b1b5c18b-b5fc-4430-887c-0d3dd7c42092 button');\n",
              "          quickchartButtonEl.style.display =\n",
              "            google.colab.kernel.accessAllowed ? 'block' : 'none';\n",
              "        })();\n",
              "      </script>\n",
              "    </div>\n",
              "\n",
              "    </div>\n",
              "  </div>\n"
            ],
            "application/vnd.google.colaboratory.intrinsic+json": {
              "type": "dataframe",
              "variable_name": "df"
            }
          },
          "metadata": {},
          "execution_count": 7
        }
      ]
    },
    {
      "cell_type": "code",
      "source": [
        "# Get the shape of full dataset\n",
        "df.shape"
      ],
      "metadata": {
        "colab": {
          "base_uri": "https://localhost:8080/"
        },
        "id": "fpz4sXFav9px",
        "outputId": "1b57d49a-aacb-4aff-dd8f-a64a1d4fb043"
      },
      "execution_count": null,
      "outputs": [
        {
          "output_type": "execute_result",
          "data": {
            "text/plain": [
              "(60000, 785)"
            ]
          },
          "metadata": {},
          "execution_count": 8
        }
      ]
    },
    {
      "cell_type": "markdown",
      "source": [
        "# Visualize Data"
      ],
      "metadata": {
        "id": "DKvt8SYWwTAt"
      }
    },
    {
      "cell_type": "code",
      "source": [
        "# Create a 4x4 grid of image\n",
        "fig, axes = plt.subplots(4, 4, figsize = (10, 10))\n",
        "fig.suptitle(\"First 16 images in the dataset\", fontsize = 16)\n",
        "\n",
        "# Plot the first 16 images from the dataset\n",
        "for i, ax in enumerate(axes.flat):\n",
        "  img = df.iloc[i, 1:].values.reshape(28, 28) # Reshape image to 28 x 28\n",
        "  ax.imshow(img, cmap = 'gray') # Display image as gray-scale\n",
        "  ax.axis('off') # Turn off axes for a clean look\n",
        "  ax.set_title(f\"Label: {df.iloc[i, 0]}\") # Show the label\n",
        "\n",
        "plt.tight_layout()\n",
        "plt.show()"
      ],
      "metadata": {
        "colab": {
          "base_uri": "https://localhost:8080/",
          "height": 664
        },
        "id": "TVTL5mRNwSr9",
        "outputId": "06f484a8-e4aa-4ddc-a865-2a70963e6d7b"
      },
      "execution_count": null,
      "outputs": [
        {
          "output_type": "display_data",
          "data": {
            "text/plain": [
              "<Figure size 1000x1000 with 16 Axes>"
            ],
            "image/png": "[encoded data removed]"
          },
          "metadata": {}
        }
      ]
    },
    {
      "cell_type": "markdown",
      "source": [
        "# Split Data into Train Test set"
      ],
      "metadata": {
        "id": "DRImEeeUxd9P"
      }
    },
    {
      "cell_type": "code",
      "source": [
        "# Split labels and features\n",
        "X = df.iloc[:, 1:].values\n",
        "y = df.iloc[:, 0].values"
      ],
      "metadata": {
        "id": "isThm04YxdTD"
      },
      "execution_count": null,
      "outputs": []
    },
    {
      "cell_type": "code",
      "source": [
        "x_train, x_test, y_train, y_test = train_test_split(X, y, test_size = 0.2, random_state=42)"
      ],
      "metadata": {
        "id": "Kq-P5y06wFEC"
      },
      "execution_count": null,
      "outputs": []
    },
    {
      "cell_type": "markdown",
      "source": [
        "# Defining Dataset and Dataloader"
      ],
      "metadata": {
        "id": "XeuZ6Z-rx8s3"
      }
    },
    {
      "cell_type": "code",
      "source": [
        "class CustomDataset(Dataset):\n",
        "  def __init__(self, features, labels):\n",
        "\n",
        "    # Convert labels and features into PyTorch tensors\n",
        "    self.features = torch.tensor(features, dtype = torch.float32).reshape(-1, 1, 28, 28) # Convert 1d features into 2d image\n",
        "    self.labels = torch.tensor(labels, dtype = torch.long)\n",
        "\n",
        "  def __len__(self):\n",
        "    return len(self.features)\n",
        "\n",
        "  def __getitem__(self, index):\n",
        "    return self.features[index], self.labels[index]"
      ],
      "metadata": {
        "id": "zrRSJZiyx1Zl"
      },
      "execution_count": null,
      "outputs": []
    },
    {
      "cell_type": "code",
      "source": [
        "# Create train and test dataset instances of above defined class\n",
        "train_dataset = CustomDataset(x_train, y_train)\n",
        "test_dataset = CustomDataset(x_test, y_test)"
      ],
      "metadata": {
        "id": "mm6ok4d5y3_R"
      },
      "execution_count": null,
      "outputs": []
    },
    {
      "cell_type": "code",
      "source": [
        "print(train_dataset[0])"
      ],
      "metadata": {
        "colab": {
          "base_uri": "https://localhost:8080/"
        },
        "id": "55RPMX8fzGhz",
        "outputId": "e4b80008-0305-44cc-f9f2-34346507ed8b"
      },
      "execution_count": null,
      "outputs": [
        {
          "output_type": "stream",
          "name": "stdout",
          "text": [
            "(tensor([[[  0.,   0.,   0.,   0.,   0.,   0.,   0.,   0.,   0.,   0.,   0.,\n",
            "            0.,   0.,   0.,   0.,   0.,   0.,   0.,   0.,   0.,   0.,   0.,\n",
            "            0.,   0.,   0.,   0.,   0.,   0.],\n",
            "         [  0.,   0.,   0.,   0.,   0.,   0.,   0.,   0.,   0.,   0.,   0.,\n",
            "            0.,   0.,   0.,   0.,   0.,   0.,   0.,   0.,   0.,   0.,   0.,\n",
            "            0.,   0.,   0.,   0.,   0.,   0.],\n",
            "         [  0.,   0.,   0.,   0.,   0.,   0.,   0.,   0.,   0.,   0.,   0.,\n",
            "            0.,   0.,   0.,   0.,   0.,   0.,   0.,   0.,   0.,   0.,   0.,\n",
            "            0.,   0.,   0.,   0.,   0.,   0.],\n",
            "         [  0.,   0.,   0.,   0.,   0.,   0.,   0.,   0.,   0.,   0.,   0.,\n",
            "            0.,   0.,   0.,   0.,   0.,   0.,   0.,   0.,   0.,   0.,   0.,\n",
            "            0.,  58., 136.,   0.,   0.,   0.],\n",
            "         [  0.,   0.,   0.,   0.,   0.,   0.,   0.,   0.,   0.,   2.,   2.,\n",
            "            7.,   2.,   0.,   0.,   0.,   0.,   0.,   0.,   7.,  55.,  80.,\n",
            "          108., 151., 255.,   0.,   0.,   0.],\n",
            "         [  0.,   0.,   0.,   0.,   0.,   0.,   0.,   0.,   0.,   2.,   2.,\n",
            "            5.,   0.,   2.,   2.,  12.,  73., 103., 131., 143., 143., 176.,\n",
            "          161.,  85.,  98.,  25.,   0.,   0.],\n",
            "         [  0.,   0.,   0.,   0.,   0.,   0.,   0.,   0.,   0.,   0.,   2.,\n",
            "            0.,  15., 108., 133., 143., 189., 196., 196., 179., 113.,  78.,\n",
            "           32.,   0.,  53., 113.,   0.,   0.],\n",
            "         [  0.,   0.,   0.,   0.,   0.,   0.,   0.,   0.,   0.,   0.,   5.,\n",
            "            0.,  12.,  47.,  40.,  47.,  15.,   0.,   0.,  20.,   0.,   0.,\n",
            "            0.,   0.,   2., 194.,  55.,   0.],\n",
            "         [  0.,   0.,   0.,   0.,   0.,   0.,   0.,   0.,   0.,   0.,   2.,\n",
            "            7.,   0.,   0.,   0.,   0.,   0.,   0.,   0.,   0.,   0.,   0.,\n",
            "            2.,   0.,   2., 201., 161.,   0.],\n",
            "         [  0.,   0.,   0.,   0.,   0.,   0.,   0.,   0.,   0.,   0.,   0.,\n",
            "            2.,   0.,   0.,   2.,   2.,   5.,   0.,   0.,   0.,   2.,   2.,\n",
            "            0.,   0.,  27., 204., 166.,  15.],\n",
            "         [  0.,   0.,   0.,   0.,   0.,   0.,   0.,   0.,   0.,   2.,   2.,\n",
            "            0.,   5.,   2.,   0.,   0.,   0.,   0.,   2.,   0.,   0.,   0.,\n",
            "            0.,   0., 100., 209., 148.,  35.],\n",
            "         [  0.,   0.,   0.,   0.,   0.,   0.,   0.,   0.,   0.,   2.,   5.,\n",
            "            0.,   0.,   0.,   0.,   0.,   0.,   0.,   5.,   2.,   0.,   2.,\n",
            "            0.,   0., 171., 227.,  50.,  42.],\n",
            "         [  0.,   0.,   0.,   0.,   0.,   0.,   0.,   0.,   0.,   0.,   0.,\n",
            "            0.,   0.,   0.,   0.,   0.,   0.,   0.,   0.,   0.,   0.,   0.,\n",
            "            0.,  25., 249., 131.,  45.,  80.],\n",
            "         [  0.,   0.,   0.,   0.,   0.,   0.,   0.,   0.,   0.,   0.,   0.,\n",
            "            0.,   0.,   0.,   0.,   0.,   0.,   0.,   0.,   0.,   0.,   0.,\n",
            "           17.,  68., 106.,  60.,  88.,  32.],\n",
            "         [  0.,   0.,   0.,   0.,   0.,   0.,   0.,   0.,   0.,   0.,   0.,\n",
            "            0.,   0.,   0.,   0.,   0.,   0.,   0.,   0.,   0.,  25.,  47.,\n",
            "           70., 191., 113.,  22.,  15.,   0.],\n",
            "         [  0.,   0.,   0.,   0.,   0.,   0.,   0.,   0.,   0.,   0.,   0.,\n",
            "            0.,   0.,   0.,   0.,   0.,   0.,   0.,  15.,  25.,  75., 176.,\n",
            "          212., 108., 123.,  35.,  22.,   7.],\n",
            "         [  0.,   0.,   0.,   0.,   0.,   2.,   0.,   2.,   0.,   0.,   0.,\n",
            "            0.,   0.,   2.,   0.,   0.,   0.,  25.,  73., 148., 209.,  42.,\n",
            "            0.,   0.,  32., 118.,   5.,   0.],\n",
            "         [  0.,   0.,   0.,   0.,   0.,   0.,   0.,   0.,   0.,   0.,   0.,\n",
            "            0.,   0.,   0.,   0.,   0.,  17.,  83., 156., 151.,   0.,   0.,\n",
            "            0.,   0.,   2., 159.,  50.,   0.],\n",
            "         [  0.,   0.,   0.,   0.,   0.,   0.,   0.,   0.,   0.,   0.,   0.,\n",
            "            0.,   0.,   2.,   0.,   5.,  88., 174., 108.,   0.,   0.,   2.,\n",
            "            0.,   0.,   0., 209.,  73.,   0.],\n",
            "         [  0.,   0.,   0.,   0.,   0.,  27.,  17., 118.,  55.,   0.,   0.,\n",
            "            0.,   0.,   0.,   0.,  50., 169., 118.,   0.,   0.,   7.,   0.,\n",
            "            0.,   0.,   0., 169.,  80.,   0.],\n",
            "         [  0.,   0.,   0.,   0.,  12.,  53.,  10.,  78., 154.,   0.,   0.,\n",
            "            0.,   0.,   0.,  22., 204., 136.,   0.,   0.,   0.,   0.,   0.,\n",
            "            2.,   0.,   0., 176., 106.,   0.],\n",
            "         [  0.,   0.,   0.,   2.,   7.,   0.,   7.,   5., 164.,   2.,   0.,\n",
            "            0.,   0.,  75., 146., 191.,   0.,   0.,   0.,   0.,   0.,   0.,\n",
            "            2.,   0.,   0., 186., 123.,   0.],\n",
            "         [ 30.,  60.,  25.,  27.,  68.,  83.,  47.,  53.,  95.,  45.,   0.,\n",
            "           20., 118., 169., 159.,   0.,   0.,   2.,   0.,   0.,   0.,   0.,\n",
            "            0.,   0.,   0., 169.,  85.,   0.],\n",
            "         [ 27., 118., 133., 121., 100., 138.,  75.,  80.,  73., 121., 138.,\n",
            "          138., 174., 161.,   2.,   0.,   5.,   2.,   0.,   0.,   0.,   0.,\n",
            "            0.,   2.,   0., 159., 143.,   0.],\n",
            "         [  0.,   0.,   0.,   5.,  30.,  53.,  50.,  80.,  65., 106., 131.,\n",
            "           50.,  58.,   0.,   0.,   0.,   2.,   7.,   0.,   0.,   0.,   0.,\n",
            "            0.,   0.,   0., 141., 148.,   0.],\n",
            "         [  0.,   0.,   0.,   0.,   0.,   0.,   0.,   0.,   0.,   0.,   0.,\n",
            "            0.,   0.,   0.,   0.,   0.,   0.,   0.,   0.,   0.,   0.,   0.,\n",
            "            0.,   0.,   0.,   0.,   0.,   0.],\n",
            "         [  0.,   0.,   0.,   0.,   0.,   0.,   0.,   0.,   0.,   0.,   0.,\n",
            "            0.,   0.,   0.,   0.,   0.,   0.,   0.,   0.,   0.,   0.,   0.,\n",
            "            0.,   0.,   0.,   0.,   0.,   0.],\n",
            "         [  0.,   0.,   0.,   0.,   0.,   0.,   0.,   0.,   0.,   0.,   0.,\n",
            "            0.,   0.,   0.,   0.,   0.,   0.,   0.,   0.,   0.,   0.,   0.,\n",
            "            0.,   0.,   0.,   0.,   0.,   0.]]]), tensor(5))\n"
          ]
        }
      ]
    },
    {
      "cell_type": "markdown",
      "source": [
        "# Train and test dataloader"
      ],
      "metadata": {
        "id": "M2eAmUOb5Neo"
      }
    },
    {
      "cell_type": "code",
      "source": [
        "train_loader = dataloader.DataLoader(train_dataset, batch_size = 256, shuffle = True)\n",
        "test_loader = dataloader.DataLoader(test_dataset, batch_size = 256, shuffle = False)"
      ],
      "metadata": {
        "id": "32eKlZmN5QTp"
      },
      "execution_count": null,
      "outputs": []
    },
    {
      "cell_type": "markdown",
      "source": [
        "# Define CNN Model"
      ],
      "metadata": {
        "id": "dYO2AzWx38ms"
      }
    },
    {
      "cell_type": "code",
      "source": [
        "# Create Train and Test dataloader onjects\n",
        "class MyCNN(nn.Module):\n",
        "\n",
        "  def __init__(self, input_features):\n",
        "    super().__init__()\n",
        "\n",
        "    self.features = nn.Sequential(\n",
        "        nn.Conv2d(input_features, 32, kernel_size = 3, padding = \"same\"),\n",
        "        nn.ReLU(),\n",
        "        nn.BatchNorm2d(32),\n",
        "        nn.MaxPool2d(kernel_size = 2, stride = 2),\n",
        "\n",
        "        # 2nd layer\n",
        "        nn.Conv2d(32, 64, kernel_size = 3, padding = \"same\"),\n",
        "        nn.ReLU(),\n",
        "        nn.BatchNorm2d(64),\n",
        "        nn.MaxPool2d(kernel_size = 2, stride = 2)\n",
        "    )\n",
        "    self.classifier = nn.Sequential(\n",
        "        nn.Flatten(),\n",
        "        nn.Linear(64 * 7 * 7, 128),\n",
        "        nn.ReLU(),\n",
        "        nn.Dropout(p = 0.4),\n",
        "\n",
        "        nn.Linear(128, 64),\n",
        "        nn.ReLU(),\n",
        "        nn.Dropout(p = 0.4),\n",
        "\n",
        "        nn.Linear(64, 10)\n",
        "    )\n",
        "\n",
        "\n",
        "  def forward(self, x):\n",
        "    x = self.features(x)\n",
        "    x = self.classifier(x)\n",
        "\n",
        "    return x"
      ],
      "metadata": {
        "id": "VdRLWHvmzxKh"
      },
      "execution_count": null,
      "outputs": []
    },
    {
      "cell_type": "code",
      "source": [
        "# Define Learning Rate and Epochs\n",
        "learning_rate = 0.01\n",
        "epochs = 100"
      ],
      "metadata": {
        "id": "S_PJ02k1z5cY"
      },
      "execution_count": null,
      "outputs": []
    },
    {
      "cell_type": "code",
      "source": [
        "# Create Model instance from Class\n",
        "model = MyCNN(1)\n",
        "\n",
        "model.to(device) # Shift the model according to device\n",
        "\n",
        "criterion = nn.CrossEntropyLoss()\n",
        "optimizer = optim.SGD(model.parameters(), lr = learning_rate, weight_decay=1e-4)"
      ],
      "metadata": {
        "id": "Mc37th633cf2"
      },
      "execution_count": null,
      "outputs": []
    },
    {
      "cell_type": "markdown",
      "source": [
        "# Define Training Loop"
      ],
      "metadata": {
        "id": "3dA2QTl83_jX"
      }
    },
    {
      "cell_type": "code",
      "source": [
        "# Training Loop\n",
        "\n",
        "for epoch in range(epochs):\n",
        "  total_epoch_loss = 0 # variable to hold total epoch loss\n",
        "\n",
        "  for batch_features, batch_labels  in train_loader: #\n",
        "    # Move data according to device type (CPU or GPU)\n",
        "    batch_features = batch_features.to(device)\n",
        "    batch_labels = batch_labels.to(device)\n",
        "\n",
        "    # Forward Pass\n",
        "    outputs = model(batch_features)\n",
        "\n",
        "    # Calculate loss\n",
        "    loss = criterion(outputs, batch_labels)\n",
        "\n",
        "    # Back Pass\n",
        "    # Zero out previous grad values\n",
        "    optimizer.zero_grad()\n",
        "    loss.backward()\n",
        "\n",
        "    # Update grads\n",
        "    optimizer.step()\n",
        "\n",
        "    total_epoch_loss += loss.item()\n",
        "\n",
        "  avg_loss = total_epoch_loss / len(train_loader)\n",
        "  print(f\"Epoch: {epoch+1}, Loss: {avg_loss:.4f}\")\n",
        "#"
      ],
      "metadata": {
        "colab": {
          "base_uri": "https://localhost:8080/"
        },
        "id": "WinpewcG30z6",
        "outputId": "4bfa29f7-a24b-456b-bbc4-e64c303d2fb6"
      },
      "execution_count": null,
      "outputs": [
        {
          "output_type": "stream",
          "name": "stdout",
          "text": [
            "Epoch: 1, Loss: 1.2376\n",
            "Epoch: 2, Loss: 0.7179\n",
            "Epoch: 3, Loss: 0.5950\n",
            "Epoch: 4, Loss: 0.5285\n",
            "Epoch: 5, Loss: 0.4811\n",
            "Epoch: 6, Loss: 0.4447\n",
            "Epoch: 7, Loss: 0.4156\n",
            "Epoch: 8, Loss: 0.3943\n",
            "Epoch: 9, Loss: 0.3760\n",
            "Epoch: 10, Loss: 0.3616\n",
            "Epoch: 11, Loss: 0.3442\n",
            "Epoch: 12, Loss: 0.3323\n",
            "Epoch: 13, Loss: 0.3201\n",
            "Epoch: 14, Loss: 0.3118\n",
            "Epoch: 15, Loss: 0.3026\n",
            "Epoch: 16, Loss: 0.2933\n",
            "Epoch: 17, Loss: 0.2837\n",
            "Epoch: 18, Loss: 0.2766\n",
            "Epoch: 19, Loss: 0.2708\n",
            "Epoch: 20, Loss: 0.2625\n",
            "Epoch: 21, Loss: 0.2585\n",
            "Epoch: 22, Loss: 0.2499\n",
            "Epoch: 23, Loss: 0.2441\n",
            "Epoch: 24, Loss: 0.2393\n",
            "Epoch: 25, Loss: 0.2315\n",
            "Epoch: 26, Loss: 0.2270\n",
            "Epoch: 27, Loss: 0.2199\n",
            "Epoch: 28, Loss: 0.2148\n",
            "Epoch: 29, Loss: 0.2113\n",
            "Epoch: 30, Loss: 0.2080\n",
            "Epoch: 31, Loss: 0.2042\n",
            "Epoch: 32, Loss: 0.1948\n",
            "Epoch: 33, Loss: 0.1947\n",
            "Epoch: 34, Loss: 0.1876\n",
            "Epoch: 35, Loss: 0.1871\n",
            "Epoch: 36, Loss: 0.1799\n",
            "Epoch: 37, Loss: 0.1763\n",
            "Epoch: 38, Loss: 0.1684\n",
            "Epoch: 39, Loss: 0.1675\n",
            "Epoch: 40, Loss: 0.1629\n",
            "Epoch: 41, Loss: 0.1619\n",
            "Epoch: 42, Loss: 0.1602\n",
            "Epoch: 43, Loss: 0.1519\n",
            "Epoch: 44, Loss: 0.1487\n",
            "Epoch: 45, Loss: 0.1462\n",
            "Epoch: 46, Loss: 0.1423\n",
            "Epoch: 47, Loss: 0.1398\n",
            "Epoch: 48, Loss: 0.1340\n",
            "Epoch: 49, Loss: 0.1341\n",
            "Epoch: 50, Loss: 0.1300\n",
            "Epoch: 51, Loss: 0.1294\n",
            "Epoch: 52, Loss: 0.1270\n",
            "Epoch: 53, Loss: 0.1221\n",
            "Epoch: 54, Loss: 0.1173\n",
            "Epoch: 55, Loss: 0.1150\n",
            "Epoch: 56, Loss: 0.1118\n",
            "Epoch: 57, Loss: 0.1103\n",
            "Epoch: 58, Loss: 0.1104\n",
            "Epoch: 59, Loss: 0.1059\n",
            "Epoch: 60, Loss: 0.1020\n",
            "Epoch: 61, Loss: 0.1002\n",
            "Epoch: 62, Loss: 0.0953\n",
            "Epoch: 63, Loss: 0.0962\n",
            "Epoch: 64, Loss: 0.0947\n",
            "Epoch: 65, Loss: 0.0894\n",
            "Epoch: 66, Loss: 0.0877\n",
            "Epoch: 67, Loss: 0.0867\n",
            "Epoch: 68, Loss: 0.0838\n",
            "Epoch: 69, Loss: 0.0868\n",
            "Epoch: 70, Loss: 0.0815\n",
            "Epoch: 71, Loss: 0.0792\n",
            "Epoch: 72, Loss: 0.0765\n",
            "Epoch: 73, Loss: 0.0737\n",
            "Epoch: 74, Loss: 0.0718\n",
            "Epoch: 75, Loss: 0.0691\n",
            "Epoch: 76, Loss: 0.0696\n",
            "Epoch: 77, Loss: 0.0673\n",
            "Epoch: 78, Loss: 0.0665\n",
            "Epoch: 79, Loss: 0.0641\n",
            "Epoch: 80, Loss: 0.0638\n",
            "Epoch: 81, Loss: 0.0620\n",
            "Epoch: 82, Loss: 0.0590\n",
            "Epoch: 83, Loss: 0.0598\n",
            "Epoch: 84, Loss: 0.0566\n",
            "Epoch: 85, Loss: 0.0563\n",
            "Epoch: 86, Loss: 0.0558\n",
            "Epoch: 87, Loss: 0.0557\n",
            "Epoch: 88, Loss: 0.0532\n",
            "Epoch: 89, Loss: 0.0522\n",
            "Epoch: 90, Loss: 0.0506\n",
            "Epoch: 91, Loss: 0.0501\n",
            "Epoch: 92, Loss: 0.0468\n",
            "Epoch: 93, Loss: 0.0464\n",
            "Epoch: 94, Loss: 0.0453\n",
            "Epoch: 95, Loss: 0.0468\n",
            "Epoch: 96, Loss: 0.0452\n",
            "Epoch: 97, Loss: 0.0426\n",
            "Epoch: 98, Loss: 0.0431\n",
            "Epoch: 99, Loss: 0.0420\n",
            "Epoch: 100, Loss: 0.0410\n"
          ]
        }
      ]
    },
    {
      "cell_type": "markdown",
      "source": [
        "# Model Evaluation"
      ],
      "metadata": {
        "id": "gNcQZeFq5oKn"
      }
    },
    {
      "cell_type": "code",
      "source": [
        "# Evaluation on Test Data\n",
        "total = 0\n",
        "correct = 0\n",
        "\n",
        "with torch.no_grad():\n",
        "  for batch_features, batch_labels in test_loader:\n",
        "\n",
        "    # Move data to GPU\n",
        "    batch_features = batch_features.to(device)\n",
        "    batch_labels = batch_labels.to(device)\n",
        "\n",
        "    # Get inference from the model\n",
        "    outputs = model(batch_features)\n",
        "\n",
        "    _, predicted = torch.max(outputs, 1) # Get the maximum probability\n",
        "\n",
        "    total = total + batch_labels.shape[0]\n",
        "\n",
        "    correct = correct + (predicted == batch_labels).sum().item()\n",
        "\n",
        "  print(f\"Model Accuracy: {correct/total*100:.2f} %\")"
      ],
      "metadata": {
        "colab": {
          "base_uri": "https://localhost:8080/"
        },
        "id": "Da-fYVuH5DJ_",
        "outputId": "a081bae7-0c2e-4cb8-f1d9-ee0a02b55e53"
      },
      "execution_count": null,
      "outputs": [
        {
          "output_type": "stream",
          "name": "stdout",
          "text": [
            "Model Accuracy: 90.57 %\n"
          ]
        }
      ]
    },
    {
      "cell_type": "code",
      "source": [
        "# Evaluation on Train Data\n",
        "total = 0\n",
        "correct = 0\n",
        "\n",
        "with torch.no_grad():\n",
        "  for batch_features, batch_labels in train_loader:\n",
        "\n",
        "    # Move data to GPU\n",
        "    batch_features = batch_features.to(device)\n",
        "    batch_labels = batch_labels.to(device)\n",
        "\n",
        "    # Get inference from the model\n",
        "    outputs = model(batch_features)\n",
        "\n",
        "    _, predicted = torch.max(outputs, 1) # Get the maximum probability\n",
        "\n",
        "    total = total + batch_labels.shape[0]\n",
        "\n",
        "    correct = correct + (predicted == batch_labels).sum().item()\n",
        "\n",
        "  print(f\"Model Accuracy: {correct/total*100:.2f} %\")"
      ],
      "metadata": {
        "colab": {
          "base_uri": "https://localhost:8080/"
        },
        "id": "ZvOXZeyO7NhK",
        "outputId": "d65e661d-7a60-44b1-a826-b74222de554e"
      },
      "execution_count": null,
      "outputs": [
        {
          "output_type": "stream",
          "name": "stdout",
          "text": [
            "Model Accuracy: 98.53 %\n"
          ]
        }
      ]
    },
    {
      "cell_type": "code",
      "source": [],
      "metadata": {
        "id": "RUqArMtF7tMM"
      },
      "execution_count": null,
      "outputs": []
    }
  ]
}